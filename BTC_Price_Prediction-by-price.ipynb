{
  "cells": [
    {
      "cell_type": "code",
      "execution_count": 1,
      "metadata": {
        "id": "jpCQhyg5HAIW"
      },
      "outputs": [],
      "source": [
        "import pandas as pd\n",
        "import numpy as np\n",
        "import matplotlib.pyplot as plt"
      ]
    },
    {
      "cell_type": "markdown",
      "metadata": {
        "id": "_IhV1CoVKqky"
      },
      "source": [
        "# Import BTC Data"
      ]
    },
    {
      "cell_type": "code",
      "execution_count": 2,
      "metadata": {
        "colab": {
          "base_uri": "https://localhost:8080/"
        },
        "id": "KH8n77zsKT15",
        "outputId": "188bdc13-4cec-4ced-bee2-c271c1a2ca81"
      },
      "outputs": [
        {
          "name": "stdout",
          "output_type": "stream",
          "text": [
            "Looking in indexes: https://pypi.org/simple, https://us-python.pkg.dev/colab-wheels/public/simple/\n",
            "Collecting yfinance\n",
            "  Downloading yfinance-0.1.74-py2.py3-none-any.whl (27 kB)\n",
            "Requirement already satisfied: pandas>=0.24.0 in /usr/local/lib/python3.7/dist-packages (from yfinance) (1.3.5)\n",
            "Collecting requests>=2.26\n",
            "  Downloading requests-2.28.1-py3-none-any.whl (62 kB)\n",
            "\u001b[K     |████████████████████████████████| 62 kB 6.2 MB/s \n",
            "\u001b[?25hRequirement already satisfied: numpy>=1.15 in /usr/local/lib/python3.7/dist-packages (from yfinance) (1.21.6)\n",
            "Requirement already satisfied: multitasking>=0.0.7 in /usr/local/lib/python3.7/dist-packages (from yfinance) (0.0.11)\n",
            "Requirement already satisfied: lxml>=4.5.1 in /usr/local/lib/python3.7/dist-packages (from yfinance) (4.9.1)\n",
            "Requirement already satisfied: python-dateutil>=2.7.3 in /usr/local/lib/python3.7/dist-packages (from pandas>=0.24.0->yfinance) (2.8.2)\n",
            "Requirement already satisfied: pytz>=2017.3 in /usr/local/lib/python3.7/dist-packages (from pandas>=0.24.0->yfinance) (2022.2.1)\n",
            "Requirement already satisfied: six>=1.5 in /usr/local/lib/python3.7/dist-packages (from python-dateutil>=2.7.3->pandas>=0.24.0->yfinance) (1.15.0)\n",
            "Requirement already satisfied: charset-normalizer<3,>=2 in /usr/local/lib/python3.7/dist-packages (from requests>=2.26->yfinance) (2.1.0)\n",
            "Requirement already satisfied: urllib3<1.27,>=1.21.1 in /usr/local/lib/python3.7/dist-packages (from requests>=2.26->yfinance) (1.24.3)\n",
            "Requirement already satisfied: idna<4,>=2.5 in /usr/local/lib/python3.7/dist-packages (from requests>=2.26->yfinance) (2.10)\n",
            "Requirement already satisfied: certifi>=2017.4.17 in /usr/local/lib/python3.7/dist-packages (from requests>=2.26->yfinance) (2022.6.15)\n",
            "Installing collected packages: requests, yfinance\n",
            "  Attempting uninstall: requests\n",
            "    Found existing installation: requests 2.23.0\n",
            "    Uninstalling requests-2.23.0:\n",
            "      Successfully uninstalled requests-2.23.0\n",
            "Successfully installed requests-2.28.1 yfinance-0.1.74\n"
          ]
        }
      ],
      "source": [
        "! pip install yfinance --upgrade --no-cache-dir"
      ]
    },
    {
      "cell_type": "code",
      "execution_count": 3,
      "metadata": {
        "colab": {
          "base_uri": "https://localhost:8080/",
          "height": 255
        },
        "id": "huzq9TC1KXOo",
        "outputId": "a68d55d1-7a40-4ab5-de83-e47fed6f6c2e"
      },
      "outputs": [
        {
          "name": "stdout",
          "output_type": "stream",
          "text": [
            "\r[*********************100%***********************]  1 of 1 completed\n"
          ]
        },
        {
          "data": {
            "text/html": [
              "\n",
              "  <div id=\"df-8bb5bcc4-8044-473a-b1c7-0aed32839f62\">\n",
              "    <div class=\"colab-df-container\">\n",
              "      <div>\n",
              "<style scoped>\n",
              "    .dataframe tbody tr th:only-of-type {\n",
              "        vertical-align: middle;\n",
              "    }\n",
              "\n",
              "    .dataframe tbody tr th {\n",
              "        vertical-align: top;\n",
              "    }\n",
              "\n",
              "    .dataframe thead th {\n",
              "        text-align: right;\n",
              "    }\n",
              "</style>\n",
              "<table border=\"1\" class=\"dataframe\">\n",
              "  <thead>\n",
              "    <tr style=\"text-align: right;\">\n",
              "      <th></th>\n",
              "      <th>Open</th>\n",
              "      <th>High</th>\n",
              "      <th>Low</th>\n",
              "      <th>Close</th>\n",
              "      <th>Adj Close</th>\n",
              "      <th>Volume</th>\n",
              "    </tr>\n",
              "    <tr>\n",
              "      <th>Date</th>\n",
              "      <th></th>\n",
              "      <th></th>\n",
              "      <th></th>\n",
              "      <th></th>\n",
              "      <th></th>\n",
              "      <th></th>\n",
              "    </tr>\n",
              "  </thead>\n",
              "  <tbody>\n",
              "    <tr>\n",
              "      <th>2019-01-01</th>\n",
              "      <td>3746.713379</td>\n",
              "      <td>3850.913818</td>\n",
              "      <td>3707.231201</td>\n",
              "      <td>3843.520020</td>\n",
              "      <td>3843.520020</td>\n",
              "      <td>4324200990</td>\n",
              "    </tr>\n",
              "    <tr>\n",
              "      <th>2019-01-02</th>\n",
              "      <td>3849.216309</td>\n",
              "      <td>3947.981201</td>\n",
              "      <td>3817.409424</td>\n",
              "      <td>3943.409424</td>\n",
              "      <td>3943.409424</td>\n",
              "      <td>5244856836</td>\n",
              "    </tr>\n",
              "    <tr>\n",
              "      <th>2019-01-03</th>\n",
              "      <td>3931.048584</td>\n",
              "      <td>3935.685059</td>\n",
              "      <td>3826.222900</td>\n",
              "      <td>3836.741211</td>\n",
              "      <td>3836.741211</td>\n",
              "      <td>4530215219</td>\n",
              "    </tr>\n",
              "    <tr>\n",
              "      <th>2019-01-04</th>\n",
              "      <td>3832.040039</td>\n",
              "      <td>3865.934570</td>\n",
              "      <td>3783.853760</td>\n",
              "      <td>3857.717529</td>\n",
              "      <td>3857.717529</td>\n",
              "      <td>4847965467</td>\n",
              "    </tr>\n",
              "    <tr>\n",
              "      <th>2019-01-05</th>\n",
              "      <td>3851.973877</td>\n",
              "      <td>3904.903076</td>\n",
              "      <td>3836.900146</td>\n",
              "      <td>3845.194580</td>\n",
              "      <td>3845.194580</td>\n",
              "      <td>5137609824</td>\n",
              "    </tr>\n",
              "  </tbody>\n",
              "</table>\n",
              "</div>\n",
              "      <button class=\"colab-df-convert\" onclick=\"convertToInteractive('df-8bb5bcc4-8044-473a-b1c7-0aed32839f62')\"\n",
              "              title=\"Convert this dataframe to an interactive table.\"\n",
              "              style=\"display:none;\">\n",
              "        \n",
              "  <svg xmlns=\"http://www.w3.org/2000/svg\" height=\"24px\"viewBox=\"0 0 24 24\"\n",
              "       width=\"24px\">\n",
              "    <path d=\"M0 0h24v24H0V0z\" fill=\"none\"/>\n",
              "    <path d=\"M18.56 5.44l.94 2.06.94-2.06 2.06-.94-2.06-.94-.94-2.06-.94 2.06-2.06.94zm-11 1L8.5 8.5l.94-2.06 2.06-.94-2.06-.94L8.5 2.5l-.94 2.06-2.06.94zm10 10l.94 2.06.94-2.06 2.06-.94-2.06-.94-.94-2.06-.94 2.06-2.06.94z\"/><path d=\"M17.41 7.96l-1.37-1.37c-.4-.4-.92-.59-1.43-.59-.52 0-1.04.2-1.43.59L10.3 9.45l-7.72 7.72c-.78.78-.78 2.05 0 2.83L4 21.41c.39.39.9.59 1.41.59.51 0 1.02-.2 1.41-.59l7.78-7.78 2.81-2.81c.8-.78.8-2.07 0-2.86zM5.41 20L4 18.59l7.72-7.72 1.47 1.35L5.41 20z\"/>\n",
              "  </svg>\n",
              "      </button>\n",
              "      \n",
              "  <style>\n",
              "    .colab-df-container {\n",
              "      display:flex;\n",
              "      flex-wrap:wrap;\n",
              "      gap: 12px;\n",
              "    }\n",
              "\n",
              "    .colab-df-convert {\n",
              "      background-color: #E8F0FE;\n",
              "      border: none;\n",
              "      border-radius: 50%;\n",
              "      cursor: pointer;\n",
              "      display: none;\n",
              "      fill: #1967D2;\n",
              "      height: 32px;\n",
              "      padding: 0 0 0 0;\n",
              "      width: 32px;\n",
              "    }\n",
              "\n",
              "    .colab-df-convert:hover {\n",
              "      background-color: #E2EBFA;\n",
              "      box-shadow: 0px 1px 2px rgba(60, 64, 67, 0.3), 0px 1px 3px 1px rgba(60, 64, 67, 0.15);\n",
              "      fill: #174EA6;\n",
              "    }\n",
              "\n",
              "    [theme=dark] .colab-df-convert {\n",
              "      background-color: #3B4455;\n",
              "      fill: #D2E3FC;\n",
              "    }\n",
              "\n",
              "    [theme=dark] .colab-df-convert:hover {\n",
              "      background-color: #434B5C;\n",
              "      box-shadow: 0px 1px 3px 1px rgba(0, 0, 0, 0.15);\n",
              "      filter: drop-shadow(0px 1px 2px rgba(0, 0, 0, 0.3));\n",
              "      fill: #FFFFFF;\n",
              "    }\n",
              "  </style>\n",
              "\n",
              "      <script>\n",
              "        const buttonEl =\n",
              "          document.querySelector('#df-8bb5bcc4-8044-473a-b1c7-0aed32839f62 button.colab-df-convert');\n",
              "        buttonEl.style.display =\n",
              "          google.colab.kernel.accessAllowed ? 'block' : 'none';\n",
              "\n",
              "        async function convertToInteractive(key) {\n",
              "          const element = document.querySelector('#df-8bb5bcc4-8044-473a-b1c7-0aed32839f62');\n",
              "          const dataTable =\n",
              "            await google.colab.kernel.invokeFunction('convertToInteractive',\n",
              "                                                     [key], {});\n",
              "          if (!dataTable) return;\n",
              "\n",
              "          const docLinkHtml = 'Like what you see? Visit the ' +\n",
              "            '<a target=\"_blank\" href=https://colab.research.google.com/notebooks/data_table.ipynb>data table notebook</a>'\n",
              "            + ' to learn more about interactive tables.';\n",
              "          element.innerHTML = '';\n",
              "          dataTable['output_type'] = 'display_data';\n",
              "          await google.colab.output.renderOutput(dataTable, element);\n",
              "          const docLink = document.createElement('div');\n",
              "          docLink.innerHTML = docLinkHtml;\n",
              "          element.appendChild(docLink);\n",
              "        }\n",
              "      </script>\n",
              "    </div>\n",
              "  </div>\n",
              "  "
            ],
            "text/plain": [
              "                   Open         High          Low        Close    Adj Close  \\\n",
              "Date                                                                          \n",
              "2019-01-01  3746.713379  3850.913818  3707.231201  3843.520020  3843.520020   \n",
              "2019-01-02  3849.216309  3947.981201  3817.409424  3943.409424  3943.409424   \n",
              "2019-01-03  3931.048584  3935.685059  3826.222900  3836.741211  3836.741211   \n",
              "2019-01-04  3832.040039  3865.934570  3783.853760  3857.717529  3857.717529   \n",
              "2019-01-05  3851.973877  3904.903076  3836.900146  3845.194580  3845.194580   \n",
              "\n",
              "                Volume  \n",
              "Date                    \n",
              "2019-01-01  4324200990  \n",
              "2019-01-02  5244856836  \n",
              "2019-01-03  4530215219  \n",
              "2019-01-04  4847965467  \n",
              "2019-01-05  5137609824  "
            ]
          },
          "execution_count": 3,
          "metadata": {},
          "output_type": "execute_result"
        }
      ],
      "source": [
        "import yfinance as yf\n",
        "data = pd.DataFrame\n",
        "data = yf.download(tickers='BTC-USD',start=\"2019-01-01\", end=\"2022-01-01\", interval = '1d')\n",
        "data.head()"
      ]
    },
    {
      "cell_type": "code",
      "execution_count": 4,
      "metadata": {
        "colab": {
          "base_uri": "https://localhost:8080/"
        },
        "id": "aE_Pzt7MKwqN",
        "outputId": "a8e9ee8e-1a9d-4927-d508-9f92d962e3bb"
      },
      "outputs": [
        {
          "data": {
            "text/plain": [
              "(1097, 2)"
            ]
          },
          "execution_count": 4,
          "metadata": {},
          "output_type": "execute_result"
        }
      ],
      "source": [
        "train1 = data.iloc[:, 0:1]\n",
        "train2 = data.iloc[:, 3:4]\n",
        "train = train1.join([train2])\n",
        "train.shape"
      ]
    },
    {
      "cell_type": "code",
      "execution_count": 5,
      "metadata": {
        "colab": {
          "base_uri": "https://localhost:8080/"
        },
        "id": "_rcnZPgwKpLI",
        "outputId": "fe33d360-928f-4a52-e695-021df42ede1e"
      },
      "outputs": [
        {
          "data": {
            "text/plain": [
              "array([[0.00538341, 0.00692016],\n",
              "       [0.00698131, 0.00847686],\n",
              "       [0.00825699, 0.00681452],\n",
              "       [0.00671356, 0.00714142],\n",
              "       [0.0070243 , 0.00694626]])"
            ]
          },
          "execution_count": 5,
          "metadata": {},
          "output_type": "execute_result"
        }
      ],
      "source": [
        "from sklearn.preprocessing import MinMaxScaler\n",
        "ms = MinMaxScaler()\n",
        "ms.fit(train)\n",
        "train = ms.transform(train)\n",
        "train[:5]"
      ]
    },
    {
      "cell_type": "code",
      "execution_count": 6,
      "metadata": {
        "colab": {
          "base_uri": "https://localhost:8080/"
        },
        "id": "j8IdywfuK9tY",
        "outputId": "54e52f8d-7fe9-4dc2-bccc-e622919b2254"
      },
      "outputs": [
        {
          "data": {
            "text/plain": [
              "((1083, 14, 2), (1083, 2))"
            ]
          },
          "execution_count": 6,
          "metadata": {},
          "output_type": "execute_result"
        }
      ],
      "source": [
        "x_train = []\n",
        "y_train = []\n",
        "for i in range(14, len(train)):\n",
        "  x_train.append(train[i-14:i])\n",
        "  y_train.append(train[i])\n",
        "x_train, y_train = np.array(x_train), np.array(y_train)\n",
        "x_train.shape, y_train.shape"
      ]
    },
    {
      "cell_type": "markdown",
      "metadata": {
        "id": "B0ewIE_iLKuQ"
      },
      "source": [
        "# LSTM Model\n",
        "this model predict BTC price by recent prices."
      ]
    },
    {
      "cell_type": "code",
      "execution_count": 7,
      "metadata": {
        "id": "MmxFcQYPKZay"
      },
      "outputs": [],
      "source": [
        "import tensorflow as tf\n",
        "from tensorflow.keras.models import Sequential\n",
        "from tensorflow.keras.layers import Dense, LSTM, Dropout"
      ]
    },
    {
      "cell_type": "code",
      "execution_count": 8,
      "metadata": {
        "colab": {
          "base_uri": "https://localhost:8080/"
        },
        "id": "Dh1D_O7zLIV5",
        "outputId": "855b642a-1165-479e-e2ec-f95ff0c500f8"
      },
      "outputs": [
        {
          "name": "stderr",
          "output_type": "stream",
          "text": [
            "WARNING:tensorflow:Layer lstm will not use cuDNN kernels since it doesn't meet the criteria. It will use a generic GPU kernel as fallback when running on GPU.\n",
            "WARNING:tensorflow:Layer lstm_1 will not use cuDNN kernels since it doesn't meet the criteria. It will use a generic GPU kernel as fallback when running on GPU.\n",
            "WARNING:tensorflow:Layer lstm_2 will not use cuDNN kernels since it doesn't meet the criteria. It will use a generic GPU kernel as fallback when running on GPU.\n",
            "WARNING:tensorflow:Layer lstm_3 will not use cuDNN kernels since it doesn't meet the criteria. It will use a generic GPU kernel as fallback when running on GPU.\n",
            "WARNING:tensorflow:Layer lstm_4 will not use cuDNN kernels since it doesn't meet the criteria. It will use a generic GPU kernel as fallback when running on GPU.\n"
          ]
        }
      ],
      "source": [
        "# Create model\n",
        "model = Sequential()\n",
        "# Add LSTM layers and Dropouts\n",
        "# First layers\n",
        "model.add(LSTM(units=60, activation='relu', return_sequences=True, input_shape=(14, 2)))\n",
        "model.add(Dropout(0.2))\n",
        "# Seconde layer\n",
        "model.add(LSTM(units=80, activation='relu', return_sequences=True))\n",
        "model.add(Dropout(0.4))\n",
        "# Third Layer\n",
        "model.add(LSTM(units=80, activation='relu', return_sequences=True))\n",
        "model.add(Dropout(0.4))\n",
        "# Fourth layer\n",
        "model.add(LSTM(units=120, activation='relu', return_sequences=True))\n",
        "model.add(Dropout(0.4))\n",
        "model.add(LSTM(units=240, activation='relu'))\n",
        "model.add(Dropout(0.4))"
      ]
    },
    {
      "cell_type": "code",
      "execution_count": 9,
      "metadata": {
        "id": "4vvqelxOLcYL"
      },
      "outputs": [],
      "source": [
        "# Output layer\n",
        "model.add(Dense(units=2))"
      ]
    },
    {
      "cell_type": "code",
      "execution_count": 10,
      "metadata": {
        "colab": {
          "base_uri": "https://localhost:8080/"
        },
        "id": "V7x7vpSXLpbe",
        "outputId": "d9b345ac-2cdf-4d67-e3ab-f5691fdd91bf"
      },
      "outputs": [
        {
          "name": "stdout",
          "output_type": "stream",
          "text": [
            "Model: \"sequential\"\n",
            "_________________________________________________________________\n",
            " Layer (type)                Output Shape              Param #   \n",
            "=================================================================\n",
            " lstm (LSTM)                 (None, 14, 60)            15120     \n",
            "                                                                 \n",
            " dropout (Dropout)           (None, 14, 60)            0         \n",
            "                                                                 \n",
            " lstm_1 (LSTM)               (None, 14, 80)            45120     \n",
            "                                                                 \n",
            " dropout_1 (Dropout)         (None, 14, 80)            0         \n",
            "                                                                 \n",
            " lstm_2 (LSTM)               (None, 14, 80)            51520     \n",
            "                                                                 \n",
            " dropout_2 (Dropout)         (None, 14, 80)            0         \n",
            "                                                                 \n",
            " lstm_3 (LSTM)               (None, 14, 120)           96480     \n",
            "                                                                 \n",
            " dropout_3 (Dropout)         (None, 14, 120)           0         \n",
            "                                                                 \n",
            " lstm_4 (LSTM)               (None, 240)               346560    \n",
            "                                                                 \n",
            " dropout_4 (Dropout)         (None, 240)               0         \n",
            "                                                                 \n",
            " dense (Dense)               (None, 2)                 482       \n",
            "                                                                 \n",
            "=================================================================\n",
            "Total params: 555,282\n",
            "Trainable params: 555,282\n",
            "Non-trainable params: 0\n",
            "_________________________________________________________________\n"
          ]
        }
      ],
      "source": [
        "model.summary()"
      ]
    },
    {
      "cell_type": "code",
      "execution_count": 11,
      "metadata": {
        "id": "7JnSy3OOLsG3"
      },
      "outputs": [],
      "source": [
        "model.compile(optimizer='adam', loss='mean_squared_error')"
      ]
    },
    {
      "cell_type": "code",
      "execution_count": 12,
      "metadata": {
        "colab": {
          "base_uri": "https://localhost:8080/"
        },
        "id": "ijUJBN_pLvHm",
        "outputId": "4ecedf45-03b6-4d98-836c-5939afc7af2a"
      },
      "outputs": [
        {
          "name": "stdout",
          "output_type": "stream",
          "text": [
            "Epoch 1/100\n",
            "2/2 [==============================] - 9s 132ms/step - loss: 0.1752\n",
            "Epoch 2/100\n",
            "2/2 [==============================] - 0s 128ms/step - loss: 0.1644\n",
            "Epoch 3/100\n",
            "2/2 [==============================] - 0s 131ms/step - loss: 0.1474\n",
            "Epoch 4/100\n",
            "2/2 [==============================] - 0s 135ms/step - loss: 0.1177\n",
            "Epoch 5/100\n",
            "2/2 [==============================] - 0s 137ms/step - loss: 0.0800\n",
            "Epoch 6/100\n",
            "2/2 [==============================] - 0s 151ms/step - loss: 0.0911\n",
            "Epoch 7/100\n",
            "2/2 [==============================] - 0s 157ms/step - loss: 0.0687\n",
            "Epoch 8/100\n",
            "2/2 [==============================] - 0s 153ms/step - loss: 0.0446\n",
            "Epoch 9/100\n",
            "2/2 [==============================] - 0s 163ms/step - loss: 0.0272\n",
            "Epoch 10/100\n",
            "2/2 [==============================] - 0s 144ms/step - loss: 0.0176\n",
            "Epoch 11/100\n",
            "2/2 [==============================] - 0s 137ms/step - loss: 0.0140\n",
            "Epoch 12/100\n",
            "2/2 [==============================] - 0s 135ms/step - loss: 0.0243\n",
            "Epoch 13/100\n",
            "2/2 [==============================] - 0s 127ms/step - loss: 0.0212\n",
            "Epoch 14/100\n",
            "2/2 [==============================] - 0s 148ms/step - loss: 0.0115\n",
            "Epoch 15/100\n",
            "2/2 [==============================] - 0s 130ms/step - loss: 0.0231\n",
            "Epoch 16/100\n",
            "2/2 [==============================] - 1s 396ms/step - loss: 0.0118\n",
            "Epoch 17/100\n",
            "2/2 [==============================] - 1s 280ms/step - loss: 0.0129\n",
            "Epoch 18/100\n",
            "2/2 [==============================] - 0s 133ms/step - loss: 0.0136\n",
            "Epoch 19/100\n",
            "2/2 [==============================] - 0s 134ms/step - loss: 0.0089\n",
            "Epoch 20/100\n",
            "2/2 [==============================] - 0s 141ms/step - loss: 0.0119\n",
            "Epoch 21/100\n",
            "2/2 [==============================] - 0s 138ms/step - loss: 0.0099\n",
            "Epoch 22/100\n",
            "2/2 [==============================] - 0s 133ms/step - loss: 0.0092\n",
            "Epoch 23/100\n",
            "2/2 [==============================] - 0s 132ms/step - loss: 0.0118\n",
            "Epoch 24/100\n",
            "2/2 [==============================] - 0s 136ms/step - loss: 0.0098\n",
            "Epoch 25/100\n",
            "2/2 [==============================] - 0s 152ms/step - loss: 0.0070\n",
            "Epoch 26/100\n",
            "2/2 [==============================] - 0s 135ms/step - loss: 0.0079\n",
            "Epoch 27/100\n",
            "2/2 [==============================] - 0s 141ms/step - loss: 0.0094\n",
            "Epoch 28/100\n",
            "2/2 [==============================] - 0s 140ms/step - loss: 0.0067\n",
            "Epoch 29/100\n",
            "2/2 [==============================] - 0s 135ms/step - loss: 0.0067\n",
            "Epoch 30/100\n",
            "2/2 [==============================] - 0s 138ms/step - loss: 0.0078\n",
            "Epoch 31/100\n",
            "2/2 [==============================] - 0s 138ms/step - loss: 0.0075\n",
            "Epoch 32/100\n",
            "2/2 [==============================] - 0s 144ms/step - loss: 0.0062\n",
            "Epoch 33/100\n",
            "2/2 [==============================] - 0s 138ms/step - loss: 0.0066\n",
            "Epoch 34/100\n",
            "2/2 [==============================] - 0s 131ms/step - loss: 0.0064\n",
            "Epoch 35/100\n",
            "2/2 [==============================] - 0s 161ms/step - loss: 0.0058\n",
            "Epoch 36/100\n",
            "2/2 [==============================] - 1s 249ms/step - loss: 0.0066\n",
            "Epoch 37/100\n",
            "2/2 [==============================] - 1s 274ms/step - loss: 0.0071\n",
            "Epoch 38/100\n",
            "2/2 [==============================] - 0s 146ms/step - loss: 0.0060\n",
            "Epoch 39/100\n",
            "2/2 [==============================] - 0s 137ms/step - loss: 0.0069\n",
            "Epoch 40/100\n",
            "2/2 [==============================] - 0s 148ms/step - loss: 0.0054\n",
            "Epoch 41/100\n",
            "2/2 [==============================] - 0s 124ms/step - loss: 0.0058\n",
            "Epoch 42/100\n",
            "2/2 [==============================] - 0s 136ms/step - loss: 0.0066\n",
            "Epoch 43/100\n",
            "2/2 [==============================] - 0s 125ms/step - loss: 0.0061\n",
            "Epoch 44/100\n",
            "2/2 [==============================] - 0s 123ms/step - loss: 0.0055\n",
            "Epoch 45/100\n",
            "2/2 [==============================] - 0s 140ms/step - loss: 0.0058\n",
            "Epoch 46/100\n",
            "2/2 [==============================] - 0s 132ms/step - loss: 0.0057\n",
            "Epoch 47/100\n",
            "2/2 [==============================] - 0s 125ms/step - loss: 0.0064\n",
            "Epoch 48/100\n",
            "2/2 [==============================] - 0s 122ms/step - loss: 0.0063\n",
            "Epoch 49/100\n",
            "2/2 [==============================] - 0s 124ms/step - loss: 0.0055\n",
            "Epoch 50/100\n",
            "2/2 [==============================] - 0s 136ms/step - loss: 0.0055\n",
            "Epoch 51/100\n",
            "2/2 [==============================] - 0s 124ms/step - loss: 0.0051\n",
            "Epoch 52/100\n",
            "2/2 [==============================] - 0s 137ms/step - loss: 0.0060\n",
            "Epoch 53/100\n",
            "2/2 [==============================] - 0s 138ms/step - loss: 0.0055\n",
            "Epoch 54/100\n",
            "2/2 [==============================] - 1s 367ms/step - loss: 0.0053\n",
            "Epoch 55/100\n",
            "2/2 [==============================] - 1s 398ms/step - loss: 0.0062\n",
            "Epoch 56/100\n",
            "2/2 [==============================] - 1s 361ms/step - loss: 0.0055\n",
            "Epoch 57/100\n",
            "2/2 [==============================] - 1s 370ms/step - loss: 0.0057\n",
            "Epoch 58/100\n",
            "2/2 [==============================] - 1s 316ms/step - loss: 0.0061\n",
            "Epoch 59/100\n",
            "2/2 [==============================] - 1s 364ms/step - loss: 0.0052\n",
            "Epoch 60/100\n",
            "2/2 [==============================] - 1s 560ms/step - loss: 0.0056\n",
            "Epoch 61/100\n",
            "2/2 [==============================] - 1s 467ms/step - loss: 0.0054\n",
            "Epoch 62/100\n",
            "2/2 [==============================] - 1s 283ms/step - loss: 0.0053\n",
            "Epoch 63/100\n",
            "2/2 [==============================] - 1s 279ms/step - loss: 0.0049\n",
            "Epoch 64/100\n",
            "2/2 [==============================] - 1s 240ms/step - loss: 0.0048\n",
            "Epoch 65/100\n",
            "2/2 [==============================] - 0s 128ms/step - loss: 0.0050\n",
            "Epoch 66/100\n",
            "2/2 [==============================] - 0s 137ms/step - loss: 0.0053\n",
            "Epoch 67/100\n",
            "2/2 [==============================] - 0s 134ms/step - loss: 0.0051\n",
            "Epoch 68/100\n",
            "2/2 [==============================] - 0s 129ms/step - loss: 0.0056\n",
            "Epoch 69/100\n",
            "2/2 [==============================] - 0s 137ms/step - loss: 0.0053\n",
            "Epoch 70/100\n",
            "2/2 [==============================] - 0s 158ms/step - loss: 0.0053\n",
            "Epoch 71/100\n",
            "2/2 [==============================] - 0s 127ms/step - loss: 0.0053\n",
            "Epoch 72/100\n",
            "2/2 [==============================] - 0s 138ms/step - loss: 0.0052\n",
            "Epoch 73/100\n",
            "2/2 [==============================] - 0s 143ms/step - loss: 0.0047\n",
            "Epoch 74/100\n",
            "2/2 [==============================] - 0s 122ms/step - loss: 0.0046\n",
            "Epoch 75/100\n",
            "2/2 [==============================] - 0s 131ms/step - loss: 0.0048\n",
            "Epoch 76/100\n",
            "2/2 [==============================] - 0s 129ms/step - loss: 0.0054\n",
            "Epoch 77/100\n",
            "2/2 [==============================] - 0s 129ms/step - loss: 0.0052\n",
            "Epoch 78/100\n",
            "2/2 [==============================] - 0s 128ms/step - loss: 0.0049\n",
            "Epoch 79/100\n",
            "2/2 [==============================] - 0s 135ms/step - loss: 0.0050\n",
            "Epoch 80/100\n",
            "2/2 [==============================] - 0s 136ms/step - loss: 0.0052\n",
            "Epoch 81/100\n",
            "2/2 [==============================] - 0s 119ms/step - loss: 0.0048\n",
            "Epoch 82/100\n",
            "2/2 [==============================] - 0s 127ms/step - loss: 0.0048\n",
            "Epoch 83/100\n",
            "2/2 [==============================] - 0s 125ms/step - loss: 0.0046\n",
            "Epoch 84/100\n",
            "2/2 [==============================] - 0s 123ms/step - loss: 0.0051\n",
            "Epoch 85/100\n",
            "2/2 [==============================] - 0s 135ms/step - loss: 0.0048\n",
            "Epoch 86/100\n",
            "2/2 [==============================] - 0s 124ms/step - loss: 0.0046\n",
            "Epoch 87/100\n",
            "2/2 [==============================] - 0s 139ms/step - loss: 0.0051\n",
            "Epoch 88/100\n",
            "2/2 [==============================] - 0s 124ms/step - loss: 0.0048\n",
            "Epoch 89/100\n",
            "2/2 [==============================] - 0s 137ms/step - loss: 0.0055\n",
            "Epoch 90/100\n",
            "2/2 [==============================] - 0s 129ms/step - loss: 0.0049\n",
            "Epoch 91/100\n",
            "2/2 [==============================] - 0s 130ms/step - loss: 0.0048\n",
            "Epoch 92/100\n",
            "2/2 [==============================] - 0s 131ms/step - loss: 0.0046\n",
            "Epoch 93/100\n",
            "2/2 [==============================] - 0s 123ms/step - loss: 0.0051\n",
            "Epoch 94/100\n",
            "2/2 [==============================] - 0s 162ms/step - loss: 0.0047\n",
            "Epoch 95/100\n",
            "2/2 [==============================] - 0s 129ms/step - loss: 0.0050\n",
            "Epoch 96/100\n",
            "2/2 [==============================] - 0s 129ms/step - loss: 0.0048\n",
            "Epoch 97/100\n",
            "2/2 [==============================] - 0s 131ms/step - loss: 0.0052\n",
            "Epoch 98/100\n",
            "2/2 [==============================] - 0s 142ms/step - loss: 0.0047\n",
            "Epoch 99/100\n",
            "2/2 [==============================] - 0s 142ms/step - loss: 0.0048\n",
            "Epoch 100/100\n",
            "2/2 [==============================] - 0s 129ms/step - loss: 0.0048\n"
          ]
        },
        {
          "data": {
            "text/plain": [
              "<keras.callbacks.History at 0x7f97a028ad90>"
            ]
          },
          "execution_count": 12,
          "metadata": {},
          "output_type": "execute_result"
        }
      ],
      "source": [
        "model.fit(x_train, y_train, batch_size=1028, epochs=100)"
      ]
    },
    {
      "cell_type": "code",
      "execution_count": 13,
      "metadata": {
        "colab": {
          "base_uri": "https://localhost:8080/",
          "height": 255
        },
        "id": "hqcKvSAILw2S",
        "outputId": "c60964c9-5f30-43e5-8c3f-4e4022e0749a"
      },
      "outputs": [
        {
          "name": "stdout",
          "output_type": "stream",
          "text": [
            "\r[*********************100%***********************]  1 of 1 completed\n"
          ]
        },
        {
          "data": {
            "text/html": [
              "\n",
              "  <div id=\"df-0d846e19-293c-4e64-bee8-f52f91b50d6e\">\n",
              "    <div class=\"colab-df-container\">\n",
              "      <div>\n",
              "<style scoped>\n",
              "    .dataframe tbody tr th:only-of-type {\n",
              "        vertical-align: middle;\n",
              "    }\n",
              "\n",
              "    .dataframe tbody tr th {\n",
              "        vertical-align: top;\n",
              "    }\n",
              "\n",
              "    .dataframe thead th {\n",
              "        text-align: right;\n",
              "    }\n",
              "</style>\n",
              "<table border=\"1\" class=\"dataframe\">\n",
              "  <thead>\n",
              "    <tr style=\"text-align: right;\">\n",
              "      <th></th>\n",
              "      <th>Open</th>\n",
              "      <th>High</th>\n",
              "      <th>Low</th>\n",
              "      <th>Close</th>\n",
              "      <th>Adj Close</th>\n",
              "      <th>Volume</th>\n",
              "    </tr>\n",
              "    <tr>\n",
              "      <th>Date</th>\n",
              "      <th></th>\n",
              "      <th></th>\n",
              "      <th></th>\n",
              "      <th></th>\n",
              "      <th></th>\n",
              "      <th></th>\n",
              "    </tr>\n",
              "  </thead>\n",
              "  <tbody>\n",
              "    <tr>\n",
              "      <th>2022-01-01</th>\n",
              "      <td>46311.746094</td>\n",
              "      <td>47827.312500</td>\n",
              "      <td>46288.484375</td>\n",
              "      <td>47686.812500</td>\n",
              "      <td>47686.812500</td>\n",
              "      <td>24582667004</td>\n",
              "    </tr>\n",
              "    <tr>\n",
              "      <th>2022-01-02</th>\n",
              "      <td>47680.925781</td>\n",
              "      <td>47881.406250</td>\n",
              "      <td>46856.937500</td>\n",
              "      <td>47345.218750</td>\n",
              "      <td>47345.218750</td>\n",
              "      <td>27951569547</td>\n",
              "    </tr>\n",
              "    <tr>\n",
              "      <th>2022-01-03</th>\n",
              "      <td>47343.542969</td>\n",
              "      <td>47510.726562</td>\n",
              "      <td>45835.964844</td>\n",
              "      <td>46458.117188</td>\n",
              "      <td>46458.117188</td>\n",
              "      <td>33071628362</td>\n",
              "    </tr>\n",
              "    <tr>\n",
              "      <th>2022-01-04</th>\n",
              "      <td>46458.851562</td>\n",
              "      <td>47406.546875</td>\n",
              "      <td>45752.464844</td>\n",
              "      <td>45897.574219</td>\n",
              "      <td>45897.574219</td>\n",
              "      <td>42494677905</td>\n",
              "    </tr>\n",
              "    <tr>\n",
              "      <th>2022-01-05</th>\n",
              "      <td>45899.359375</td>\n",
              "      <td>46929.046875</td>\n",
              "      <td>42798.222656</td>\n",
              "      <td>43569.003906</td>\n",
              "      <td>43569.003906</td>\n",
              "      <td>36851084859</td>\n",
              "    </tr>\n",
              "  </tbody>\n",
              "</table>\n",
              "</div>\n",
              "      <button class=\"colab-df-convert\" onclick=\"convertToInteractive('df-0d846e19-293c-4e64-bee8-f52f91b50d6e')\"\n",
              "              title=\"Convert this dataframe to an interactive table.\"\n",
              "              style=\"display:none;\">\n",
              "        \n",
              "  <svg xmlns=\"http://www.w3.org/2000/svg\" height=\"24px\"viewBox=\"0 0 24 24\"\n",
              "       width=\"24px\">\n",
              "    <path d=\"M0 0h24v24H0V0z\" fill=\"none\"/>\n",
              "    <path d=\"M18.56 5.44l.94 2.06.94-2.06 2.06-.94-2.06-.94-.94-2.06-.94 2.06-2.06.94zm-11 1L8.5 8.5l.94-2.06 2.06-.94-2.06-.94L8.5 2.5l-.94 2.06-2.06.94zm10 10l.94 2.06.94-2.06 2.06-.94-2.06-.94-.94-2.06-.94 2.06-2.06.94z\"/><path d=\"M17.41 7.96l-1.37-1.37c-.4-.4-.92-.59-1.43-.59-.52 0-1.04.2-1.43.59L10.3 9.45l-7.72 7.72c-.78.78-.78 2.05 0 2.83L4 21.41c.39.39.9.59 1.41.59.51 0 1.02-.2 1.41-.59l7.78-7.78 2.81-2.81c.8-.78.8-2.07 0-2.86zM5.41 20L4 18.59l7.72-7.72 1.47 1.35L5.41 20z\"/>\n",
              "  </svg>\n",
              "      </button>\n",
              "      \n",
              "  <style>\n",
              "    .colab-df-container {\n",
              "      display:flex;\n",
              "      flex-wrap:wrap;\n",
              "      gap: 12px;\n",
              "    }\n",
              "\n",
              "    .colab-df-convert {\n",
              "      background-color: #E8F0FE;\n",
              "      border: none;\n",
              "      border-radius: 50%;\n",
              "      cursor: pointer;\n",
              "      display: none;\n",
              "      fill: #1967D2;\n",
              "      height: 32px;\n",
              "      padding: 0 0 0 0;\n",
              "      width: 32px;\n",
              "    }\n",
              "\n",
              "    .colab-df-convert:hover {\n",
              "      background-color: #E2EBFA;\n",
              "      box-shadow: 0px 1px 2px rgba(60, 64, 67, 0.3), 0px 1px 3px 1px rgba(60, 64, 67, 0.15);\n",
              "      fill: #174EA6;\n",
              "    }\n",
              "\n",
              "    [theme=dark] .colab-df-convert {\n",
              "      background-color: #3B4455;\n",
              "      fill: #D2E3FC;\n",
              "    }\n",
              "\n",
              "    [theme=dark] .colab-df-convert:hover {\n",
              "      background-color: #434B5C;\n",
              "      box-shadow: 0px 1px 3px 1px rgba(0, 0, 0, 0.15);\n",
              "      filter: drop-shadow(0px 1px 2px rgba(0, 0, 0, 0.3));\n",
              "      fill: #FFFFFF;\n",
              "    }\n",
              "  </style>\n",
              "\n",
              "      <script>\n",
              "        const buttonEl =\n",
              "          document.querySelector('#df-0d846e19-293c-4e64-bee8-f52f91b50d6e button.colab-df-convert');\n",
              "        buttonEl.style.display =\n",
              "          google.colab.kernel.accessAllowed ? 'block' : 'none';\n",
              "\n",
              "        async function convertToInteractive(key) {\n",
              "          const element = document.querySelector('#df-0d846e19-293c-4e64-bee8-f52f91b50d6e');\n",
              "          const dataTable =\n",
              "            await google.colab.kernel.invokeFunction('convertToInteractive',\n",
              "                                                     [key], {});\n",
              "          if (!dataTable) return;\n",
              "\n",
              "          const docLinkHtml = 'Like what you see? Visit the ' +\n",
              "            '<a target=\"_blank\" href=https://colab.research.google.com/notebooks/data_table.ipynb>data table notebook</a>'\n",
              "            + ' to learn more about interactive tables.';\n",
              "          element.innerHTML = '';\n",
              "          dataTable['output_type'] = 'display_data';\n",
              "          await google.colab.output.renderOutput(dataTable, element);\n",
              "          const docLink = document.createElement('div');\n",
              "          docLink.innerHTML = docLinkHtml;\n",
              "          element.appendChild(docLink);\n",
              "        }\n",
              "      </script>\n",
              "    </div>\n",
              "  </div>\n",
              "  "
            ],
            "text/plain": [
              "                    Open          High           Low         Close  \\\n",
              "Date                                                                 \n",
              "2022-01-01  46311.746094  47827.312500  46288.484375  47686.812500   \n",
              "2022-01-02  47680.925781  47881.406250  46856.937500  47345.218750   \n",
              "2022-01-03  47343.542969  47510.726562  45835.964844  46458.117188   \n",
              "2022-01-04  46458.851562  47406.546875  45752.464844  45897.574219   \n",
              "2022-01-05  45899.359375  46929.046875  42798.222656  43569.003906   \n",
              "\n",
              "               Adj Close       Volume  \n",
              "Date                                   \n",
              "2022-01-01  47686.812500  24582667004  \n",
              "2022-01-02  47345.218750  27951569547  \n",
              "2022-01-03  46458.117188  33071628362  \n",
              "2022-01-04  45897.574219  42494677905  \n",
              "2022-01-05  43569.003906  36851084859  "
            ]
          },
          "execution_count": 13,
          "metadata": {},
          "output_type": "execute_result"
        }
      ],
      "source": [
        "test = pd.DataFrame\n",
        "test = yf.download(tickers='BTC-USD',start=\"2022-01-01\", end=\"2022-08-14\", interval = '1d')\n",
        "test.head()"
      ]
    },
    {
      "cell_type": "code",
      "execution_count": 14,
      "metadata": {
        "colab": {
          "base_uri": "https://localhost:8080/"
        },
        "id": "r1mo7JgBL1nH",
        "outputId": "b8a2d377-b886-4133-885c-8e5a2395be37"
      },
      "outputs": [
        {
          "data": {
            "text/plain": [
              "(226, 2)"
            ]
          },
          "execution_count": 14,
          "metadata": {},
          "output_type": "execute_result"
        }
      ],
      "source": [
        "train1 = test.iloc[:, 0:1]\n",
        "train4 = test.iloc[:, 3:4]\n",
        "test = train1.join([train4])\n",
        "test.shape"
      ]
    },
    {
      "cell_type": "code",
      "execution_count": 15,
      "metadata": {
        "colab": {
          "base_uri": "https://localhost:8080/"
        },
        "id": "2VRDvjh9L4TX",
        "outputId": "9e8407c6-fbaa-4ffd-b821-eac117a6ab31"
      },
      "outputs": [
        {
          "data": {
            "text/plain": [
              "array([[0.6689239 , 0.69018491],\n",
              "       [0.69026785, 0.68486142],\n",
              "       [0.68500844, 0.67103661],\n",
              "       [0.67121711, 0.66230097],\n",
              "       [0.66249526, 0.62601195]])"
            ]
          },
          "execution_count": 15,
          "metadata": {},
          "output_type": "execute_result"
        }
      ],
      "source": [
        "# Scale test data\n",
        "test = ms.transform(test)\n",
        "test[:5]"
      ]
    },
    {
      "cell_type": "code",
      "execution_count": 16,
      "metadata": {
        "colab": {
          "base_uri": "https://localhost:8080/"
        },
        "id": "NDgY79G-MES3",
        "outputId": "30d78378-8569-48ad-9f5f-b1f4c9653c85"
      },
      "outputs": [
        {
          "data": {
            "text/plain": [
              "((212, 14, 2), (212, 2))"
            ]
          },
          "execution_count": 16,
          "metadata": {},
          "output_type": "execute_result"
        }
      ],
      "source": [
        "x_test = []\n",
        "y_test = []\n",
        "for i in range(14, len(test)):\n",
        "  x_test.append(test[i-14:i])\n",
        "  y_test.append(test[i])\n",
        "x_test, y_test = np.array(x_test), np.array(y_test)\n",
        "x_test.shape, y_test.shape"
      ]
    },
    {
      "cell_type": "code",
      "execution_count": 17,
      "metadata": {
        "colab": {
          "base_uri": "https://localhost:8080/"
        },
        "id": "E0oia7a3MFcP",
        "outputId": "a2d00388-d985-44d4-b87f-39aab4beb7aa"
      },
      "outputs": [
        {
          "name": "stdout",
          "output_type": "stream",
          "text": [
            "7/7 [==============================] - 2s 30ms/step - loss: 0.0034\n"
          ]
        },
        {
          "data": {
            "text/plain": [
              "0.0034286880400031805"
            ]
          },
          "execution_count": 17,
          "metadata": {},
          "output_type": "execute_result"
        }
      ],
      "source": [
        "model.evaluate(x_test, y_test)"
      ]
    },
    {
      "cell_type": "code",
      "execution_count": 18,
      "metadata": {
        "id": "bk77NZfBMIvH"
      },
      "outputs": [],
      "source": [
        "prediction = model.predict(x_test)"
      ]
    },
    {
      "cell_type": "code",
      "execution_count": 21,
      "metadata": {
        "colab": {
          "base_uri": "https://localhost:8080/",
          "height": 480
        },
        "id": "dKZ8zsu-MLLH",
        "outputId": "4eacd9a2-4cc5-439f-ae63-1261a3049318"
      },
      "outputs": [
        {
          "data": {
            "text/plain": [
              "<matplotlib.legend.Legend at 0x7f971ea9b0d0>"
            ]
          },
          "execution_count": 21,
          "metadata": {},
          "output_type": "execute_result"
        },
        {
          "data": {
            "image/png": "[encoded data removed]",
            "text/plain": [
              "<Figure size 1440x576 with 1 Axes>"
            ]
          },
          "metadata": {
            "needs_background": "light"
          },
          "output_type": "display_data"
        }
      ],
      "source": [
        "import matplotlib.pyplot as plt\n",
        "plt.figure(figsize=(20,8), dpi=72)\n",
        "plt.title('Prediction and Real price')\n",
        "plt.plot(prediction[:, 0], label='Open-prediction')\n",
        "plt.plot(prediction[:, 1], label='Close-prediction')\n",
        "plt.plot(y_test[:,0],label='Open-Real')\n",
        "plt.plot(y_test[:,1], label='Close-Real')\n",
        "plt.legend()"
      ]
    }
  ],
  "metadata": {
    "accelerator": "GPU",
    "colab": {
      "collapsed_sections": [
        "B0ewIE_iLKuQ"
      ],
      "name": "BTC-Price-Prediction.ipynb",
      "provenance": []
    },
    "gpuClass": "standard",
    "kernelspec": {
      "display_name": "Python 3",
      "name": "python3"
    },
    "language_info": {
      "name": "python"
    }
  },
  "nbformat": 4,
  "nbformat_minor": 0
}
